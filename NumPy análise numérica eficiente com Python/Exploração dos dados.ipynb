{
  "nbformat": 4,
  "nbformat_minor": 0,
  "metadata": {
    "colab": {
      "provenance": []
    },
    "kernelspec": {
      "name": "python3",
      "display_name": "Python 3"
    },
    "language_info": {
      "name": "python"
    }
  },
  "cells": [
    {
      "cell_type": "markdown",
      "source": [
        "# NUMPY - ALURA"
      ],
      "metadata": {
        "id": "5c9ayjZJ7DNs"
      }
    },
    {
      "cell_type": "markdown",
      "source": [
        "A NumPy é uma biblioteca em Python que oferece diversas ferramentas e funcionalidades essenciais para computação científica, incluindo objetos de matriz multidimensional chamados de arrays, rotinas para operações rápidas em matrizes, além de operações matemáticas, manipulação de forma, estatísticas e muito mais. É amplamente utilizado em áreas como análise de dados, processamento de sinais e aprendizado de máquina.\n",
        "\n",
        "Mais conteúdo sobre as suas funcionalidades pode ser acessado no link: https://numpy.org/devdocs/index.html"
      ],
      "metadata": {
        "id": "CoV6x9Bv-Z7N"
      }
    },
    {
      "cell_type": "markdown",
      "source": [
        "# Aula 1"
      ],
      "metadata": {
        "id": "DlIXhhP4kpXs"
      }
    },
    {
      "cell_type": "markdown",
      "source": [
        "## Vídeo 1.3 - Carregando dados"
      ],
      "metadata": {
        "id": "jf_9eE4NwKA4"
      }
    },
    {
      "cell_type": "markdown",
      "source": [
        "A versão original da base de dados utilizada neste curso pode encontrada neste [link](https://www.kaggle.com/datasets/kapatsa/apple-prices-in-russian-regions) onde você pode ler um pouco mais sobre o problema e questões em potencial relacionadas a estes dados. \n",
        "\n",
        "\n",
        "Porém, neste curso será utilizada uma versão modificada disponível neste [link](https://github.com/alura-cursos/numpy/blob/dados/apples_ts.csv). O link para a versão Raw do arquivo repositório do Github é este: https://raw.githubusercontent.com/alura-cursos/numpy/dados/apples_ts.csv . "
      ],
      "metadata": {
        "id": "OrzRD1HjklCD"
      }
    },
    {
      "cell_type": "code",
      "execution_count": null,
      "metadata": {
        "id": "LvhSkBLokSwp"
      },
      "outputs": [],
      "source": [
        "import numpy as np"
      ]
    },
    {
      "cell_type": "code",
      "source": [
        "url = 'https://raw.githubusercontent.com/alura-cursos/numpy/dados/apples_ts.csv'"
      ],
      "metadata": {
        "id": "tkOiG4uvMoHQ"
      },
      "execution_count": null,
      "outputs": []
    },
    {
      "cell_type": "code",
      "source": [
        "np.arange(1,88,1)"
      ],
      "metadata": {
        "id": "woiZe2_Ql8eM"
      },
      "execution_count": null,
      "outputs": []
    },
    {
      "cell_type": "code",
      "source": [
        "7*12+3"
      ],
      "metadata": {
        "id": "HFAQ7N1ltVZH"
      },
      "execution_count": null,
      "outputs": []
    },
    {
      "cell_type": "code",
      "source": [
        "dado = np.loadtxt(url,delimiter=',',usecols=np.arange(1,88,1))"
      ],
      "metadata": {
        "id": "31bbVYEZkcf8"
      },
      "execution_count": null,
      "outputs": []
    },
    {
      "cell_type": "markdown",
      "source": [
        "## Vídeo 1.4 - Dimensões do array"
      ],
      "metadata": {
        "id": "m1ugXa_NwXIZ"
      }
    },
    {
      "cell_type": "code",
      "source": [
        "dado.ndim"
      ],
      "metadata": {
        "id": "OacarG2Uy8Iq"
      },
      "execution_count": null,
      "outputs": []
    },
    {
      "cell_type": "code",
      "source": [
        "dado.size"
      ],
      "metadata": {
        "id": "rwPNvctqzA7Z"
      },
      "execution_count": null,
      "outputs": []
    },
    {
      "cell_type": "code",
      "source": [
        "dado.shape"
      ],
      "metadata": {
        "id": "Eugn3BoPt9s2"
      },
      "execution_count": null,
      "outputs": []
    },
    {
      "cell_type": "markdown",
      "source": [
        "### Transposição do array"
      ],
      "metadata": {
        "id": "bBCStF7k_wjy"
      }
    },
    {
      "cell_type": "code",
      "source": [
        "dado.T"
      ],
      "metadata": {
        "id": "cZgJMqEswc8_"
      },
      "execution_count": null,
      "outputs": []
    },
    {
      "cell_type": "code",
      "source": [
        "dado.T.shape"
      ],
      "metadata": {
        "id": "rYf7idhVwfXo"
      },
      "execution_count": null,
      "outputs": []
    },
    {
      "cell_type": "code",
      "source": [
        "dado_transposto = dado.T"
      ],
      "metadata": {
        "id": "VCfUT2fHxTwv"
      },
      "execution_count": null,
      "outputs": []
    },
    {
      "cell_type": "markdown",
      "source": [
        "# Aula 2"
      ],
      "metadata": {
        "id": "xLPnu4EZ0_Mj"
      }
    },
    {
      "cell_type": "markdown",
      "source": [
        "## Vídeo 2.1 - Visualização e seleção"
      ],
      "metadata": {
        "id": "4s5QCa1s1CcS"
      }
    },
    {
      "cell_type": "markdown",
      "source": [
        "### *A[ i : j ]*\n",
        "\n",
        "Recorta a lista *A* do índice i até o j. Neste fatiamento o elemento com índice i é **incluído** e o elemento com índice j **não é incluído** no resultado."
      ],
      "metadata": {
        "id": "PuzE7IHSDhAy"
      }
    },
    {
      "cell_type": "code",
      "source": [
        "datas = dado_transposto[:,0]"
      ],
      "metadata": {
        "id": "AnFj2Bcu1BaI"
      },
      "execution_count": null,
      "outputs": []
    },
    {
      "cell_type": "code",
      "source": [
        "precos = dado_transposto[:,1:6]"
      ],
      "metadata": {
        "id": "cALi6D5V3rNi"
      },
      "execution_count": null,
      "outputs": []
    },
    {
      "cell_type": "markdown",
      "source": [
        "Matplotlib é uma biblioteca em Python que oferece diversas ferramentas e funcionalidades para a criação de visualizações em gráficos. Ela permite criar gráficos estáticos, animados e interativos de forma simples e oferece recursos avançados para a criação de gráficos mais complexos. É amplamente utilizada em áreas como análise de dados, processamento de sinais e aprendizado de máquina. Neste curso iremos utilizar apenas a plt.plot, mas se você quiser se aprofundar no assunto pode consultar a documentação na biblioteca neste link: https://matplotlib.org/"
      ],
      "metadata": {
        "id": "MoT44x0P_3x7"
      }
    },
    {
      "cell_type": "code",
      "source": [
        "import matplotlib.pyplot as plt"
      ],
      "metadata": {
        "id": "aUiOwcVa46Ey"
      },
      "execution_count": null,
      "outputs": []
    },
    {
      "cell_type": "code",
      "source": [
        "plt.plot(datas, precos[:,0])"
      ],
      "metadata": {
        "id": "KY_BbT_V5VIR"
      },
      "execution_count": null,
      "outputs": []
    },
    {
      "cell_type": "code",
      "source": [
        "datas = np.arange(1,88,1)"
      ],
      "metadata": {
        "id": "cl6Jc6FO5ZzK"
      },
      "execution_count": null,
      "outputs": []
    },
    {
      "cell_type": "code",
      "source": [
        "plt.plot(datas, precos[:,0])"
      ],
      "metadata": {
        "id": "lMJCzD-v56DS"
      },
      "execution_count": null,
      "outputs": []
    },
    {
      "cell_type": "code",
      "source": [
        "Moscow = precos[:,0]\n",
        "Kaliningrad = precos[:,1]\n",
        "Petersburg = precos[:,2]\n",
        "Krasnodar = precos[:,3]\n",
        "Ekaterinburg = precos[:,4]"
      ],
      "metadata": {
        "id": "DpxvyAuy56tx"
      },
      "execution_count": null,
      "outputs": []
    },
    {
      "cell_type": "markdown",
      "source": [
        "## Vídeo 2.2 - Comparação entre arrays"
      ],
      "metadata": {
        "id": "DN6NWVzA7MPF"
      }
    },
    {
      "cell_type": "code",
      "source": [
        "Moscow.shape"
      ],
      "metadata": {
        "id": "1CUF-sWA9a4V"
      },
      "execution_count": null,
      "outputs": []
    },
    {
      "cell_type": "code",
      "source": [
        "Moscow_ano1 = Moscow[0:12]\n",
        "Moscow_ano2 = Moscow[13:25]\n",
        "Moscow_ano3 = Moscow[25:37]\n",
        "Moscow_ano4 = Moscow[37:49]"
      ],
      "metadata": {
        "id": "9SPo1sSt7JQ7"
      },
      "execution_count": null,
      "outputs": []
    },
    {
      "cell_type": "code",
      "source": [
        "plt.plot(np.arange(1,13,1), Moscow_ano1)\n",
        "plt.plot(np.arange(1,13,1), Moscow_ano2)\n",
        "plt.plot(np.arange(1,13,1), Moscow_ano3)\n",
        "plt.plot(np.arange(1,13,1), Moscow_ano4)\n",
        "plt.legend(['ano1','ano2','ano3','ano4'])"
      ],
      "metadata": {
        "id": "4MzsuSCO9K27"
      },
      "execution_count": null,
      "outputs": []
    },
    {
      "cell_type": "code",
      "source": [
        "np.array_equal(Moscow_ano3, Moscow_ano4)"
      ],
      "metadata": {
        "id": "rgCn9Z2ZJ5EK"
      },
      "execution_count": null,
      "outputs": []
    },
    {
      "cell_type": "code",
      "source": [
        "np.allclose(Moscow_ano3, Moscow_ano4,10)\n"
      ],
      "metadata": {
        "id": "9tlC6wQNKPQb"
      },
      "execution_count": null,
      "outputs": []
    },
    {
      "cell_type": "markdown",
      "source": [
        "## Vídeo 2.3 - Lidando com NaNs"
      ],
      "metadata": {
        "id": "UT8CWkPiJv-q"
      }
    },
    {
      "cell_type": "code",
      "source": [
        "plt.plot(datas, Kaliningrad)"
      ],
      "metadata": {
        "id": "Zoaxx_LtNJNq"
      },
      "execution_count": null,
      "outputs": []
    },
    {
      "cell_type": "code",
      "source": [
        "np.isnan(Kaliningrad)"
      ],
      "metadata": {
        "id": "GMkXuuR1G8zD"
      },
      "execution_count": null,
      "outputs": []
    },
    {
      "cell_type": "code",
      "source": [
        "Kaliningrad"
      ],
      "metadata": {
        "id": "oWSOuDg3lOIF"
      },
      "execution_count": null,
      "outputs": []
    },
    {
      "cell_type": "code",
      "source": [
        "sum(np.isnan(Kaliningrad))"
      ],
      "metadata": {
        "id": "RnX79GWolOfF"
      },
      "execution_count": null,
      "outputs": []
    },
    {
      "cell_type": "code",
      "source": [
        "(Kaliningrad[3] + Kaliningrad[5])/2"
      ],
      "metadata": {
        "id": "jRIR4zp4lvBs"
      },
      "execution_count": null,
      "outputs": []
    },
    {
      "cell_type": "code",
      "source": [
        "np.mean([Kaliningrad[3], Kaliningrad[5]])"
      ],
      "metadata": {
        "id": "04y4gfXXl-Sz"
      },
      "execution_count": null,
      "outputs": []
    },
    {
      "cell_type": "code",
      "source": [
        "Kaliningrad[4] = np.mean([Kaliningrad[3], Kaliningrad[5]])"
      ],
      "metadata": {
        "id": "T24yIH3EnHpl"
      },
      "execution_count": null,
      "outputs": []
    },
    {
      "cell_type": "code",
      "source": [
        "np.mean(Moscow)"
      ],
      "metadata": {
        "id": "U7GYFmQKnBNT"
      },
      "execution_count": null,
      "outputs": []
    },
    {
      "cell_type": "code",
      "source": [
        "np.mean(Kaliningrad)"
      ],
      "metadata": {
        "id": "1lrB_4X-oKd6"
      },
      "execution_count": null,
      "outputs": []
    }
  ]
}